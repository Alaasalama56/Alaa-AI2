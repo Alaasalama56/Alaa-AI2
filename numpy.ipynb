{
 "cells": [
  {
   "cell_type": "code",
   "execution_count": 1,
   "id": "39803153-b1e9-4f08-b4ea-c35d6d4ddb60",
   "metadata": {},
   "outputs": [],
   "source": [
    "import numpy as np\n"
   ]
  },
  {
   "cell_type": "code",
   "execution_count": 2,
   "id": "18633797-b125-4660-bcd8-345c4c8e5e33",
   "metadata": {},
   "outputs": [
    {
     "name": "stdout",
     "output_type": "stream",
     "text": [
      "[[1 2 3]\n",
      " [4 5 6]]\n"
     ]
    }
   ],
   "source": [
    "array_1= np.array([(1,2,3),(4,5,6)])\n",
    "print(array_1)"
   ]
  },
  {
   "cell_type": "code",
   "execution_count": 3,
   "id": "fd3ab1a0-7551-4c74-b0e1-1ac2863fcc3c",
   "metadata": {},
   "outputs": [
    {
     "data": {
      "text/plain": [
       "21"
      ]
     },
     "execution_count": 3,
     "metadata": {},
     "output_type": "execute_result"
    }
   ],
   "source": [
    "array_1.sum()"
   ]
  },
  {
   "cell_type": "code",
   "execution_count": null,
   "id": "8d79f6d2-dc89-4c7d-9780-1dbd1bb989d9",
   "metadata": {},
   "outputs": [],
   "source": []
  },
  {
   "cell_type": "code",
   "execution_count": null,
   "id": "36f040e3-bcdf-46b1-9db8-5922a18381c2",
   "metadata": {},
   "outputs": [],
   "source": []
  },
  {
   "cell_type": "code",
   "execution_count": null,
   "id": "2954f0a8-8f3f-4067-88fa-877fcd9ed2fe",
   "metadata": {},
   "outputs": [],
   "source": []
  },
  {
   "cell_type": "code",
   "execution_count": null,
   "id": "b02ac63a-3d3e-435c-ab13-a1508ac97442",
   "metadata": {},
   "outputs": [],
   "source": []
  },
  {
   "cell_type": "code",
   "execution_count": 4,
   "id": "94840ebe-61e1-47fc-b027-4a2b339a6dfc",
   "metadata": {},
   "outputs": [],
   "source": [
    "array_2= np.array([(7,8,9),(10,11,12)])"
   ]
  },
  {
   "cell_type": "code",
   "execution_count": 5,
   "id": "7ef8cf40-ffa5-49ea-9ad8-08b8a6b810f8",
   "metadata": {},
   "outputs": [
    {
     "data": {
      "text/plain": [
       "array([[ 8, 10, 12],\n",
       "       [14, 16, 18]])"
      ]
     },
     "execution_count": 5,
     "metadata": {},
     "output_type": "execute_result"
    }
   ],
   "source": [
    "array_3=array_1 + array_2\n",
    "array_3"
   ]
  },
  {
   "cell_type": "code",
   "execution_count": 6,
   "id": "658e35d2-0f7d-4daa-8e53-a79a679e7bd7",
   "metadata": {},
   "outputs": [
    {
     "data": {
      "text/plain": [
       "array([[ 7, 16, 27],\n",
       "       [40, 55, 72]])"
      ]
     },
     "execution_count": 6,
     "metadata": {},
     "output_type": "execute_result"
    }
   ],
   "source": [
    "array_4=array_1 * array_2\n",
    "array_4"
   ]
  },
  {
   "cell_type": "code",
   "execution_count": 7,
   "id": "63999649-293a-4b60-9321-38826238e849",
   "metadata": {},
   "outputs": [
    {
     "data": {
      "text/plain": [
       "(2, 3)"
      ]
     },
     "execution_count": 7,
     "metadata": {},
     "output_type": "execute_result"
    }
   ],
   "source": [
    "array_4.shape"
   ]
  },
  {
   "cell_type": "code",
   "execution_count": 8,
   "id": "9568d421-04f5-433d-94fe-313d5562aba9",
   "metadata": {},
   "outputs": [
    {
     "data": {
      "text/plain": [
       "6"
      ]
     },
     "execution_count": 8,
     "metadata": {},
     "output_type": "execute_result"
    }
   ],
   "source": [
    "array_4.size"
   ]
  },
  {
   "cell_type": "raw",
   "id": "3cd58877-8740-4d4f-b2ea-786bddcf090d",
   "metadata": {},
   "source": [
    "Create random matrices using NumPy.\n",
    "Perform matrix multiplication.\n",
    "Calculate the determinant and inverse of a matrix.\n",
    "Apply advanced mathematical functions like sine and natural logarithm to a matrix.\n",
    "Use advanced indexing to extract specific data from a matrix."
   ]
  },
  {
   "cell_type": "code",
   "execution_count": 9,
   "id": "9f7c25c4-b67f-4e2c-933d-9774c0c68a43",
   "metadata": {},
   "outputs": [
    {
     "data": {
      "text/plain": [
       "array([[0.25716448, 0.08056039, 0.49257361],\n",
       "       [0.01267719, 0.21202405, 0.02655888],\n",
       "       [0.12950523, 0.0160971 , 0.08138241]])"
      ]
     },
     "execution_count": 9,
     "metadata": {},
     "output_type": "execute_result"
    }
   ],
   "source": [
    "a1=np.random.rand(3,3)\n",
    "a2=np.random.rand(3,3)\n",
    "array9=a1*a2\n",
    "array9"
   ]
  },
  {
   "cell_type": "code",
   "execution_count": 10,
   "id": "29172356-95c7-4eaa-945a-c83677b816cf",
   "metadata": {},
   "outputs": [
    {
     "data": {
      "text/plain": [
       "-0.008903267307031247"
      ]
     },
     "execution_count": 10,
     "metadata": {},
     "output_type": "execute_result"
    }
   ],
   "source": [
    "np.linalg.det(array9)"
   ]
  },
  {
   "cell_type": "code",
   "execution_count": 11,
   "id": "e6e09377-e09d-49ca-97aa-def25ae335d0",
   "metadata": {},
   "outputs": [
    {
     "data": {
      "text/plain": [
       "array([[-1.89003731, -0.15419164, 11.48992305],\n",
       "       [-0.2704416 ,  4.81420962,  0.06576831],\n",
       "       [ 3.06114113, -0.70686282, -6.0094539 ]])"
      ]
     },
     "execution_count": 11,
     "metadata": {},
     "output_type": "execute_result"
    }
   ],
   "source": [
    "np.linalg.inv(array9)"
   ]
  },
  {
   "cell_type": "code",
   "execution_count": 12,
   "id": "95b207a9-75c8-4252-b302-0ae224e42588",
   "metadata": {},
   "outputs": [
    {
     "data": {
      "text/plain": [
       "array([[0.272693  , 0.08900597, 0.71897764],\n",
       "       [0.19826635, 0.24657644, 0.67813165],\n",
       "       [0.74774757, 0.12385856, 0.16546339]])"
      ]
     },
     "execution_count": 12,
     "metadata": {},
     "output_type": "execute_result"
    }
   ],
   "source": [
    "np.sin(a1)"
   ]
  },
  {
   "cell_type": "code",
   "execution_count": 13,
   "id": "4f1ad595-5c06-400a-ac81-bfed2a148293",
   "metadata": {},
   "outputs": [
    {
     "data": {
      "text/plain": [
       "array([[-1.28666258, -2.41772765, -0.22023497],\n",
       "       [-1.61149585, -1.38971613, -0.2940792 ],\n",
       "       [-0.16881724, -2.08604367, -1.79439579]])"
      ]
     },
     "execution_count": 13,
     "metadata": {},
     "output_type": "execute_result"
    }
   ],
   "source": [
    "np.log(a1)"
   ]
  },
  {
   "cell_type": "code",
   "execution_count": null,
   "id": "edb54daf-1292-4855-b75d-41ac97c1d826",
   "metadata": {},
   "outputs": [],
   "source": []
  },
  {
   "cell_type": "code",
   "execution_count": 14,
   "id": "77dfeec5-9d4a-49b5-984e-4b387b963ad9",
   "metadata": {},
   "outputs": [
    {
     "name": "stdout",
     "output_type": "stream",
     "text": [
      "[0.  0.5]\n"
     ]
    }
   ],
   "source": [
    "c= np.array([[3, 2],[1, 4]]) \n",
    "b=np.array([1, 2])\n",
    "x=np.linalg.solve(c,b)\n",
    "print(x)"
   ]
  },
  {
   "cell_type": "raw",
   "id": "527e6b43-8541-47de-968e-42a9c2252fef",
   "metadata": {},
   "source": [
    "Task Description:\n",
    "The game is simple: the program selects a random number between 1 and 100, and the player's task is to guess this number. The program will provide hints to the player if their guess is higher or lower than the correct number.\n",
    "Requirements:\n",
    "\n",
    "1  OOP: Create a class to represent the game.\n",
    "2  NumPy:  to generate a random number.\n",
    "3  Loops and While: Allow the player to keep guessing until they      find the correct number.\n",
    "4  If Conditions: Check if the guess is correct, higher, or lower"
   ]
  },
  {
   "cell_type": "code",
   "execution_count": 15,
   "id": "8f6d3dd2-0a8a-455a-b29e-5a9970219ecf",
   "metadata": {},
   "outputs": [
    {
     "name": "stdout",
     "output_type": "stream",
     "text": [
      "3\n"
     ]
    },
    {
     "name": "stdin",
     "output_type": "stream",
     "text": [
      "geb die nummer 3\n"
     ]
    }
   ],
   "source": [
    "\n",
    "data=np.random.randint(1,101)\n",
    "print(data)\n",
    "o=int(input('geb die nummer'))\n",
    "while data !=o:\n",
    "    \n",
    "    if data>o:\n",
    "        print('die nummer soll gross sein')\n",
    "    else:\n",
    "        print('die nummer soll klein sein') \n",
    "    o= int(input('die nummer eingeben: '))\n",
    "\n",
    "\n",
    "\n",
    "        \n",
    "        "
   ]
  },
  {
   "cell_type": "code",
   "execution_count": null,
   "id": "a8f6357f-4b17-4bb0-a651-869afe60df43",
   "metadata": {},
   "outputs": [],
   "source": []
  },
  {
   "cell_type": "raw",
   "id": "8848708c-91f0-4bbd-92c2-72456d03b195",
   "metadata": {},
   "source": [
    "You have a dataset of grades for 5 students\n",
    "in 3 subjects (Math, Science, English). The task is to:\n",
    "\n",
    "    \n",
    "1  Create a matrix containing the students' grades.\n",
    "2  Calculate the average grade for each student.\n",
    "3  Calculate the average grade for each subject.\n",
    "4  Find the highest and lowest grade in each subject.\n",
    "5  Calculate the standard deviation of grades for each subjec"
   ]
  },
  {
   "cell_type": "code",
   "execution_count": 77,
   "id": "6c9cae26-baf6-42dc-a2a9-f440ef8d7170",
   "metadata": {},
   "outputs": [
    {
     "name": "stdout",
     "output_type": "stream",
     "text": [
      "[ 77  40 100]\n",
      "[88 90 55]\n",
      "[53 64 77]\n",
      "[ 7 80  5]\n",
      "[ 8 50 90]\n",
      "49.333333333333336\n"
     ]
    }
   ],
   "source": [
    "e=np.array([[77,40,100],[88,90,55],[53,64,77],[7,80,5],[8,50,90]])\n",
    "m_men_subject=[]\n",
    "for x in e:\n",
    "    print(x)\n",
    "    \n",
    "\n",
    "print(np.mean(x))\n",
    "\n",
    "\n",
    "#print(np.max(x))\n",
    "\n",
    "\n",
    "#print(np.min(x))\n",
    "\n",
    "\n",
    "#print(np.std(x))\n",
    "\n"
   ]
  },
  {
   "cell_type": "code",
   "execution_count": null,
   "id": "c76a9f42-a900-4810-a07e-116f96dadd54",
   "metadata": {},
   "outputs": [],
   "source": []
  },
  {
   "cell_type": "code",
   "execution_count": null,
   "id": "85493c98-42f0-4208-9a04-28b0ffd4e207",
   "metadata": {},
   "outputs": [],
   "source": []
  },
  {
   "cell_type": "code",
   "execution_count": 85,
   "id": "0d2f28ed-3ae8-451f-a4f9-1493a8b518e8",
   "metadata": {},
   "outputs": [
    {
     "name": "stdout",
     "output_type": "stream",
     "text": [
      " THE NUM IS  [2 4 5]\n"
     ]
    }
   ],
   "source": [
    "import numpy as np\n",
    " \n",
    "my_array = np.array([1, 2, 2, 3, 4, 4, 4, 5,5,])\n",
    " \n",
    "counts = np.bincount(my_array)\n",
    " \n",
    "duplicates = np.where(counts > 1)[0]\n",
    " \n",
    "print(\" THE NUM IS \", duplicates)"
   ]
  },
  {
   "cell_type": "code",
   "execution_count": null,
   "id": "3b9ceec1-fc0a-45fd-8cd4-5760b746710e",
   "metadata": {},
   "outputs": [],
   "source": []
  },
  {
   "cell_type": "code",
   "execution_count": null,
   "id": "cc32b30c-4c4d-455d-a2e3-86449b1a1ca9",
   "metadata": {},
   "outputs": [],
   "source": []
  },
  {
   "cell_type": "code",
   "execution_count": null,
   "id": "3ffdbf7c-cc12-42ac-8351-188009010988",
   "metadata": {},
   "outputs": [],
   "source": []
  }
 ],
 "metadata": {
  "kernelspec": {
   "display_name": "Python [conda env:base] *",
   "language": "python",
   "name": "conda-base-py"
  },
  "language_info": {
   "codemirror_mode": {
    "name": "ipython",
    "version": 3
   },
   "file_extension": ".py",
   "mimetype": "text/x-python",
   "name": "python",
   "nbconvert_exporter": "python",
   "pygments_lexer": "ipython3",
   "version": "3.12.7"
  }
 },
 "nbformat": 4,
 "nbformat_minor": 5
}
