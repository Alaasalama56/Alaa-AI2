{
 "cells": [
  {
   "cell_type": "code",
   "execution_count": 43,
   "id": "fff2bdaa-87d0-4b04-a83b-35e8923d0260",
   "metadata": {},
   "outputs": [
    {
     "name": "stdin",
     "output_type": "stream",
     "text": [
      "Enter you age 20\n",
      "Enter your land a\n"
     ]
    },
    {
     "name": "stdout",
     "output_type": "stream",
     "text": [
      "you have not corse\n"
     ]
    }
   ],
   "source": [
    "a='Egypt'\n",
    "b='saudiArabia'\n",
    "c='kuwait'\n",
    "d='bahrin'\n",
    "age=int(input('Enter you age'))\n",
    "if age<18:\n",
    "    print('the corse is not valed')\n",
    "g=input('Enter your land')\n",
    "\n",
    "if g==a:\n",
    "    print('Egypt und you have 20% discount' )\n",
    "elif g==b:\n",
    "    print('saudiArabia und you have 40% discount' )\n",
    "elif g==c:\n",
    "    print('kuwait is your land' )\n",
    "elif g==d:\n",
    "    print('bahrin is your land' )\n",
    "else:\n",
    "    print('you have not corse')\n",
    "    \n",
    "    "
   ]
  },
  {
   "cell_type": "code",
   "execution_count": 71,
   "id": "fdb08dab-4431-449d-bc24-e15f6ec50013",
   "metadata": {},
   "outputs": [
    {
     "name": "stdin",
     "output_type": "stream",
     "text": [
      "enter you age 20\n"
     ]
    },
    {
     "name": "stdout",
     "output_type": "stream",
     "text": [
      "adalt\n"
     ]
    }
   ],
   "source": [
    "a=int(input('enter you age'))\n",
    "if a<=13:\n",
    "    print('sehld')\n",
    "elif a>=13 and a<=19:\n",
    "    print ('student')\n",
    "elif a>=19 and a<=59:\n",
    "    print('adalt')\n",
    "else:\n",
    "    print('folse')\n",
    "    "
   ]
  },
  {
   "cell_type": "code",
   "execution_count": null,
   "id": "3bb1e7fd-9c33-4d70-9050-160dc6142ced",
   "metadata": {},
   "outputs": [],
   "source": [
    "price = int(input('pleas enter the price'))\n",
    "if price<100:\n",
    "    print(price)\n",
    "elif price>=100 and price<=500:\n",
    "    print(f'the neu price is {price- (price*10/100)}')\n",
    "elif price >500:\n",
    "    print(f'the neu price is {price-(price*20/100)}')"
   ]
  },
  {
   "cell_type": "code",
   "execution_count": null,
   "id": "ba46fd74-3918-4aaa-819e-e6fef0c88404",
   "metadata": {},
   "outputs": [],
   "source": []
  },
  {
   "cell_type": "markdown",
   "id": "b4dd2121-9c4b-4cae-be5f-46906c8aac3e",
   "metadata": {},
   "source": [
    "Task: Create a Simple To-Do List Application\n",
    "Objective:\n",
    "Your task is to create a Python program that allows users to manage their daily tasks using a simple command-line interface. The program should include the following features:\n",
    "Add a new task.\n",
    "View all tasks.\n",
    "Delete a task.\n",
    "Exit the program.\n",
    "Requirements:\n",
    "Use if, elif, and else statements to handle user choices.\n",
    "Use a while loop to keep the program running until the user chooses to exit.\n",
    "Use break to exit the loop when the user selects the exit option.\n",
    "Use a list to store the tasks.\n",
    "Use input() to interact with the user."
   ]
  },
  {
   "cell_type": "code",
   "execution_count": null,
   "id": "1193677e-598c-4dd6-919e-2fcedebe99d4",
   "metadata": {},
   "outputs": [],
   "source": [
    "Tasks = []\n",
    "tasks1=[]\n",
    "while True:\n",
    "    Tasks1 = input('welche Tasks muessen gemacht werden')\n",
    "    if Tasks1 =='fertig':\n",
    "        break\n",
    "    Tasks.append(Tasks1)\n",
    "    \n",
    "bitte = input('muessen die Tasks geaendert werden?')\n",
    "if bitte == 'ja':\n",
    "    op= input('muss add oder remove')\n",
    "    if op== 'add':\n",
    "        add_Task = input('Add dein neu Task')\n",
    "        neu_Task = Tasks.append(add_Task)\n",
    "    else:\n",
    "        remove_Task = input('remove dein Task')\n",
    "        neu1_Task = Tasks.remove(remove_Task)       \n",
    "else:\n",
    "   print('mach weiter')\n",
    "print(Tasks)\n",
    "\n",
    "while Tasks:\n",
    "    don_Task = input('welcher Task hast du gemacht')\n",
    "    if don_Task not in Tasks:\n",
    "        print('sorry')\n",
    "    else:\n",
    "        Delet_Task = Tasks.remove(don_Task)   \n",
    "        print(Tasks)\n",
    "        #if not Tasks:\n",
    "         #   break\n",
    "print('alle Tasks wurden gemacht')"
   ]
  },
  {
   "cell_type": "code",
   "execution_count": null,
   "id": "e5b1f223-2b99-4989-8f97-382366c3f335",
   "metadata": {},
   "outputs": [],
   "source": []
  },
  {
   "cell_type": "code",
   "execution_count": null,
   "id": "607b4f95-0e3c-4719-b141-9fa860c34128",
   "metadata": {},
   "outputs": [],
   "source": []
  },
  {
   "cell_type": "markdown",
   "id": "9220a7da-4d18-416c-a6cc-36c787c7f330",
   "metadata": {},
   "source": [
    "Task: Restaurant Order Management Application\n",
    "Create a Python application to manage restaurant orders. The application should:\n",
    "Add a New Order\n",
    "View All Orders\n",
    "Update Order Status\n",
    "Delete an Order\n",
    "Exit:\n",
    "Let the user exit the application."
   ]
  },
  {
   "cell_type": "code",
   "execution_count": null,
   "id": "ab877454-f30f-4320-8055-f5df7e743a5e",
   "metadata": {},
   "outputs": [],
   "source": [
    "order_list = ['Trink','Salat','Fleich']\n",
    "print(f'schön dass du in unserm Restaurant essen moeschten. der Order lautet:{order_list}')\n",
    " \n",
    " \n",
    "order = []\n",
    "order1 = []\n",
    "while True:    \n",
    "    x = input('bitte eingeben den order')\n",
    "    if x not in order_list:\n",
    "        print('au?er unser Order')\n",
    "    order1 = input('Geben Sie bitte den Order ein')\n",
    "    if order1 == 'Stop':\n",
    "        break\n",
    "    order.append(order1)\n",
    "#print(order)\n",
    " \n",
    "order_uppdate= input('muss der Order geaendert werden')\n",
    "if order_uppdate =='ja':\n",
    "    order_new = input('was muss geaendert werden? Add oder ermove?')\n",
    "    if order_new == 'Add':\n",
    "        order_new_add = input('add dein new order')\n",
    "        order.append(order_new_add)\n",
    "        print(order)\n",
    "    else:\n",
    "        order_new_remove = input('remove dein alt order')\n",
    "        order.remove(order_new_remove) \n",
    "        print(order)\n",
    "else:\n",
    "    print(order)"
   ]
  },
  {
   "cell_type": "code",
   "execution_count": null,
   "id": "d6d0d9ef-c588-4cc7-93f7-35f18efdcb89",
   "metadata": {},
   "outputs": [],
   "source": []
  },
  {
   "cell_type": "code",
   "execution_count": null,
   "id": "d116d2a0-af86-4832-a37f-fb754b04686a",
   "metadata": {},
   "outputs": [],
   "source": [
    "Task: Count Characters and Words\n",
    "Description:\n",
    "Write a Python program that does the following:\n",
    "Asks the user to input a sentence (a string).\n",
    "Displays the total number of characters in the sentence (including spaces).\n",
    "Displays the total number of words in the sentence.\n",
    "Displays each word in the sentence along with its character coun"
   ]
  },
  {
   "cell_type": "code",
   "execution_count": 73,
   "id": "a4ee9bfd-472a-44bb-9444-922a35ab3759",
   "metadata": {},
   "outputs": [
    {
     "name": "stdin",
     "output_type": "stream",
     "text": [
      "Bitte ein satz eingeben alaa salama\n"
     ]
    },
    {
     "name": "stdout",
     "output_type": "stream",
     "text": [
      "a l a a   s a l a m a \n",
      "\n",
      "11\n",
      "\n",
      "\n",
      "Alaa Salama\n",
      "4\n",
      "6\n"
     ]
    }
   ],
   "source": [
    "Satz = input('Bitte ein satz eingeben')\n",
    "for x in Satz:\n",
    "    print(x,end=' ')\n",
    "print('\\n')\n",
    "x1 =len(Satz)\n",
    "print(x1)\n",
    "print('\\n')\n",
    "Word_number = Satz.split()\n",
    "len(Word_number)\n",
    "print(Satz.title())\n",
    "for word in Word_number:\n",
    "    print(len(word))"
   ]
  },
  {
   "cell_type": "code",
   "execution_count": null,
   "id": "4b9d24b8-9f29-4d18-80f2-dec83fa357fd",
   "metadata": {},
   "outputs": [],
   "source": []
  },
  {
   "cell_type": "code",
   "execution_count": null,
   "id": "f50c7a1a-5986-4086-82b4-49460c05cfbe",
   "metadata": {},
   "outputs": [],
   "source": []
  },
  {
   "cell_type": "code",
   "execution_count": null,
   "id": "f0b5aef3-ece2-4a9a-9fc3-dac8b1afd2d5",
   "metadata": {},
   "outputs": [],
   "source": []
  },
  {
   "cell_type": "code",
   "execution_count": null,
   "id": "999048d0-3c24-4d05-8564-f709681a4714",
   "metadata": {},
   "outputs": [],
   "source": []
  },
  {
   "cell_type": "code",
   "execution_count": null,
   "id": "889f3f60-ddd5-4a97-a97a-81d2274f699d",
   "metadata": {},
   "outputs": [],
   "source": []
  }
 ],
 "metadata": {
  "kernelspec": {
   "display_name": "Python [conda env:base] *",
   "language": "python",
   "name": "conda-base-py"
  },
  "language_info": {
   "codemirror_mode": {
    "name": "ipython",
    "version": 3
   },
   "file_extension": ".py",
   "mimetype": "text/x-python",
   "name": "python",
   "nbconvert_exporter": "python",
   "pygments_lexer": "ipython3",
   "version": "3.12.7"
  }
 },
 "nbformat": 4,
 "nbformat_minor": 5
}
